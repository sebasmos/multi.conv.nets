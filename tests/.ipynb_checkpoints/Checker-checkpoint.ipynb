{
 "cells": [
  {
   "cell_type": "code",
   "execution_count": 1,
   "id": "further-spyware",
   "metadata": {},
   "outputs": [],
   "source": [
    "import cutter as cut\n",
    "from cutter import *\n",
    "import rasterio\n",
    "import matplotlib.pyplot as plt\n",
    "from rasterio.plot import show_hist\n",
    "import numpy as np\n",
    "from patchify import patchify\n",
    "import tifffile as tiff"
   ]
  },
  {
   "cell_type": "code",
   "execution_count": 2,
   "id": "aggressive-huntington",
   "metadata": {},
   "outputs": [],
   "source": [
    "path_image = \"/home/sebasmos/Documentos/AI india/ai.team.datasets/Datasets /1. kaychallay/T45QXE_2021-04-19.tif\"\n",
    "#path_image = \"/home/sebasmos/Documentos/AI india/ai.team.datasets/Datasets /2. Sameeksha Gour/SAMEEKSHA GOUR (img).tif\"\n",
    "#path_image = \"/home/sebasmos/Documentos/AI india/ai.team.datasets/Datasets /3. Apoor/apoorvjain.qgis.tiff\"\n",
    "path_label = \"/home/sebasmos/Documentos/AI india/ai.team.datasets/Datasets /1. kaychallay/T45QXE_2021-04-19_default.ome.tiff\"\n",
    "#path_label = \"/home/sebasmos/Documentos/AI india/ai.team.datasets/Datasets /2. Sameeksha Gour/SAMEEKSHA GOUR (ANNOTATION).tiff\"\n",
    "#path_label = \"/home/sebasmos/Documentos/AI india/ai.team.datasets/Datasets /3. Apoor/apoorvjain.apeerannotatedimage.tiff\"\n",
    "path_out = \"/home/sebasmos/Documentos/AI india/ai.team.datasets/Datasets /1. kaychallay/\""
   ]
  },
  {
   "cell_type": "code",
   "execution_count": 3,
   "id": "civilian-playback",
   "metadata": {},
   "outputs": [
    {
     "name": "stderr",
     "output_type": "stream",
     "text": [
      "/home/sebasmos/anaconda3/envs/solaris/lib/python3.7/site-packages/rasterio/__init__.py:219: NotGeoreferencedWarning: Dataset has no geotransform set. The identity matrix may be returned.\n",
      "  s = DatasetReader(path, driver=driver, sharing=sharing, **kwargs)\n"
     ]
    }
   ],
   "source": [
    "image = rasterio.open(path_image)\n",
    "\n",
    "labels = rasterio.open(path_label)"
   ]
  },
  {
   "cell_type": "code",
   "execution_count": null,
   "id": "studied-intake",
   "metadata": {},
   "outputs": [
    {
     "name": "stdout",
     "output_type": "stream",
     "text": [
      "Number of bands in image: 7\n",
      "\n",
      "Image size is: 10980 rows x 10980 columns\n",
      "\n",
      "Raster driver: GTiff\n",
      "\n",
      "Image projection:\n",
      "EPSG:32645\n"
     ]
    }
   ],
   "source": [
    "\n",
    "##############################################################################\n",
    "# Image information\n",
    "\n",
    "# How many bands does this image have?\n",
    "num_bands = image.count\n",
    "print('Number of bands in image: {n}\\n'.format(n=num_bands))\n",
    "\n",
    "rows, cols = image.shape\n",
    "print('Image size is: {r} rows x {c} columns\\n'.format(r=rows, c=cols))\n",
    "\n",
    "# What driver was used to open the raster?\n",
    "driver = image.driver\n",
    "print('Raster driver: {d}\\n'.format(d=driver))\n",
    "\n",
    "# What is the raster's projection?\n",
    "proj = image.crs\n",
    "print('Image projection:')\n",
    "print(proj)\n",
    "\n",
    "image = image.read()\n",
    "image.shape"
   ]
  },
  {
   "cell_type": "code",
   "execution_count": null,
   "id": "integral-lecture",
   "metadata": {},
   "outputs": [],
   "source": [
    "###############################################################################\n",
    "\n",
    "labels = labels.read()\n",
    "labels.shape\n",
    "unique, counts = np.unique(labels, return_counts=True)\n",
    "list(zip(unique, counts))\n",
    "\n",
    "# img\n",
    "#plt.imshow(test_img."
   ]
  },
  {
   "cell_type": "code",
   "execution_count": null,
   "id": "portuguese-patch",
   "metadata": {},
   "outputs": [],
   "source": [
    "large_image_stack = tiff.imread(path_image)\n",
    "large_mask_stack = tiff.imread(path_label)\n",
    "print(large_image_stack.shape)\n",
    "print(large_mask_stack.shape)\n",
    "\n",
    "plt.figure(figsize=(12, 8))\n",
    "plt.subplot(221)\n",
    "plt.title('Image')\n",
    "plt.imshow(large_image_stack)\n",
    "plt.subplot(222)\n",
    "plt.title('Mask')\n",
    "plt.imshow(large_mask_stack)\n",
    "plt.show()"
   ]
  },
  {
   "cell_type": "code",
   "execution_count": null,
   "id": "constitutional-filing",
   "metadata": {},
   "outputs": [],
   "source": [
    "plt.imshow(image, cmap='pink')"
   ]
  },
  {
   "cell_type": "code",
   "execution_count": null,
   "id": "proof-processor",
   "metadata": {},
   "outputs": [],
   "source": [
    "show_hist(image, bins=50, lw=0.0, stacked=False, alpha=0.3,histtype='stepfilled', title=\"Histogram\")"
   ]
  },
  {
   "cell_type": "code",
   "execution_count": null,
   "id": "civilian-pendant",
   "metadata": {},
   "outputs": [],
   "source": []
  },
  {
   "cell_type": "code",
   "execution_count": null,
   "id": "charitable-laptop",
   "metadata": {},
   "outputs": [],
   "source": []
  },
  {
   "cell_type": "code",
   "execution_count": null,
   "id": "exceptional-request",
   "metadata": {},
   "outputs": [],
   "source": []
  }
 ],
 "metadata": {
  "kernelspec": {
   "display_name": "Python 3.7.8 64-bit ('solaris': conda)",
   "language": "python",
   "name": "python378jvsc74a57bd0846fc0da2063d51e888b54ea48ec89969bbeabb9e67eeda438e71ccf6ec5bc96"
  },
  "language_info": {
   "codemirror_mode": {
    "name": "ipython",
    "version": 3
   },
   "file_extension": ".py",
   "mimetype": "text/x-python",
   "name": "python",
   "nbconvert_exporter": "python",
   "pygments_lexer": "ipython3",
   "version": "3.7.8"
  }
 },
 "nbformat": 4,
 "nbformat_minor": 5
}
